{
 "cells": [
  {
   "cell_type": "markdown",
   "metadata": {},
   "source": [
    "Task 2: Lookalike Model"
   ]
  },
  {
   "cell_type": "code",
   "execution_count": 30,
   "metadata": {},
   "outputs": [],
   "source": [
    "customer_features = mergedlist.groupby('CustomerID').agg({\n",
    "    'TotalValue': 'sum',  \n",
    "    'Quantity': 'sum',   \n",
    "    'ProductID': lambda x: x.mode()[0]  \n",
    "})\n"
   ]
  },
  {
   "cell_type": "code",
   "execution_count": 32,
   "metadata": {},
   "outputs": [],
   "source": [
    "from sklearn.preprocessing import MinMaxScaler, OneHotEncoder\n",
    "from sklearn.metrics.pairwise import cosine_similarity\n",
    "import pandas as pd\n",
    "import numpy as np\n",
    "\n",
    "customer_transactions = transactions.groupby('CustomerID').agg(\n",
    "    total_spend=('TotalValue', 'sum'),\n",
    "    total_quantity=('Quantity', 'sum'),\n",
    "    num_transactions=('TransactionID', 'count')\n",
    ").reset_index()\n",
    "\n",
    "customer_data = customers.merge(customer_transactions, on='CustomerID', how='left')\n",
    "customer_data.fillna(0, inplace=True)\n",
    "\n",
    "encoder = OneHotEncoder(sparse=False, drop='first')\n",
    "region_encoded = encoder.fit_transform(customer_data[['Region']])\n",
    "\n",
    "scaler = MinMaxScaler()\n",
    "numerical_features = scaler.fit_transform(customer_data[['total_spend', 'total_quantity', 'num_transactions']])\n",
    "\n",
    "customer_features = np.hstack([region_encoded, numerical_features])\n",
    "\n",
    "similarity_matrix = cosine_similarity(customer_features)\n"
   ]
  },
  {
   "cell_type": "code",
   "execution_count": null,
   "metadata": {},
   "outputs": [
    {
     "name": "stdout",
     "output_type": "stream",
     "text": [
      "    Customer                                Top Recommendations\n",
      "0      C0001  [(C0107, 0.9997970719930916), (C0137, 0.999692...\n",
      "1      C0002  [(C0084, 0.9979443840440271), (C0142, 0.997881...\n",
      "2      C0003  [(C0190, 0.997374997052909), (C0133, 0.9969677...\n",
      "3      C0004  [(C0113, 0.9994191453118594), (C0102, 0.997993...\n",
      "4      C0005  [(C0178, 0.9998657137098317), (C0101, 0.999554...\n",
      "..       ...                                                ...\n",
      "195    C0196  [(C0170, 0.9956741491873117), (C0037, 0.994704...\n",
      "196    C0197  [(C0132, 0.999595815958913), (C0073, 0.9995753...\n",
      "197    C0198  [(C0063, 0.9974044889548139), (C0009, 0.996313...\n",
      "198    C0199  [(C0166, 0.9980773121890072), (C0197, 0.996891...\n",
      "199    C0200  [(C0143, 0.9992241537956438), (C0028, 0.999041...\n",
      "\n",
      "[200 rows x 2 columns]\n"
     ]
    }
   ],
   "source": [
    "import numpy as np\n",
    "import pandas as pd\n",
    "\n",
    "customer_ids = customer_data['CustomerID'].tolist()\n",
    "\n",
    "similarity_matrix = cosine_similarity(customer_features)\n",
    "\n",
    "recommendations = {}\n",
    "for i, customer in enumerate(customer_ids):\n",
    "    similarities = list(enumerate(similarity_matrix[i]))\n",
    "    sorted_similarities = sorted(similarities, key=lambda x: x[1], reverse=True)\n",
    "    sorted_similarities = [(customer_ids[j], score) for j, score in sorted_similarities if j != i]\n",
    "    recommendations[customer] = sorted_similarities[:3]\n",
    "\n",
    "recommendations_df = pd.DataFrame([\n",
    "    {'Customer': customer, 'Top Recommendations': recs}\n",
    "    for customer, recs in recommendations.items()\n",
    "])\n",
    "print(recommendations_df)\n"
   ]
  },
  {
   "cell_type": "code",
   "execution_count": 24,
   "metadata": {},
   "outputs": [],
   "source": [
    "lookalikes = pd.DataFrame([\n",
    "    {'Customer': customer, 'Top Recommendations': recs}\n",
    "    for customer, recs in recommendations.items()\n",
    "])\n"
   ]
  },
  {
   "cell_type": "code",
   "execution_count": 25,
   "metadata": {},
   "outputs": [],
   "source": [
    "lookalikes['Top Recommendations'] = lookalikes['Top Recommendations'].apply(\n",
    "    lambda recs: ', '.join([f\"{customer} ({score:.2f})\" for customer, score in recs])\n",
    ")\n"
   ]
  },
  {
   "cell_type": "code",
   "execution_count": 26,
   "metadata": {},
   "outputs": [],
   "source": [
    "lookalikes.to_csv('C:/Users/DELL/Downloads/Telegram Desktop/Zeotap/Koya_Madhusudhana_Rao_Lookalike.csv', index=False)\n"
   ]
  }
 ],
 "metadata": {
  "kernelspec": {
   "display_name": "base",
   "language": "python",
   "name": "python3"
  },
  "language_info": {
   "codemirror_mode": {
    "name": "ipython",
    "version": 3
   },
   "file_extension": ".py",
   "mimetype": "text/x-python",
   "name": "python",
   "nbconvert_exporter": "python",
   "pygments_lexer": "ipython3",
   "version": "3.9.13"
  }
 },
 "nbformat": 4,
 "nbformat_minor": 2
}
